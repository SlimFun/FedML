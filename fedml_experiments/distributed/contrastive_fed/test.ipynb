{
 "cells": [
  {
   "cell_type": "code",
   "execution_count": 1,
   "id": "630d4d62",
   "metadata": {},
   "outputs": [],
   "source": [
    "import sys, os\n",
    "import argparse\n",
    "\n",
    "sys.path.insert(0, os.path.abspath(os.path.join(os.getcwd(), \"./../../../../\")))\n",
    "sys.path.insert(0, os.path.abspath(os.path.join(os.getcwd(), \"./../../../\")))\n",
    "\n",
    "sys.path.insert(0, os.path.abspath(os.path.join(os.getcwd(), \"\")))"
   ]
  },
  {
   "cell_type": "code",
   "execution_count": 2,
   "id": "63d4dc98",
   "metadata": {},
   "outputs": [],
   "source": [
    "from fedml_api.data_preprocessing.cifar10.data_loader import load_partition_data_cifar10\n",
    "from fedml_api.standalone.fedavg.my_model_trainer_classification import MyModelTrainer as MyModelTrainerCLS\n",
    "# from fedml_api.model.cv.resnet import resnet56\n",
    "from fedml_api.model.contrastive_cv.resnet_with_embedding import Resnet56\n",
    "\n",
    "import torch\n",
    "from torch import nn\n",
    "from collections import OrderedDict\n",
    "import torch.nn.functional as F\n",
    "\n",
    "import matplotlib.pyplot as plt\n",
    "from sklearn.manifold import TSNE\n",
    "import numpy as np\n",
    "import random\n",
    "import pickle"
   ]
  },
  {
   "cell_type": "code",
   "execution_count": 3,
   "id": "4675f877",
   "metadata": {},
   "outputs": [],
   "source": [
    "dataset = 'cifar10'\n",
    "data_dir = \"./../../../data/cifar10\"\n",
    "# partition_method = 'hetero'\n",
    "partition_method = 'homo'\n",
    "partition_alpha = 0.5\n",
    "client_num_in_total = 3\n",
    "batch_size = 100\n",
    "total_epochs = 500\n",
    "save_model_path = 'model/client_{0}_triplet_epochs_{1}.pt'\n",
    "\n",
    "device = 'cuda:2'"
   ]
  },
  {
   "cell_type": "code",
   "execution_count": 4,
   "id": "b8d62014",
   "metadata": {},
   "outputs": [],
   "source": [
    "with open(f'dataset_{partition_method}_{client_num_in_total}.pickle', 'rb') as f:\n",
    "    dataset = pickle.load(f)"
   ]
  },
  {
   "cell_type": "code",
   "execution_count": 5,
   "id": "91273fad",
   "metadata": {},
   "outputs": [],
   "source": [
    "class Client(object):\n",
    "    def __init__(self, client_index, train_data_local_dict, train_data_local_num_dict, test_data_local_dict, device, model):\n",
    "        self.id = client_index\n",
    "        self.train_data = train_data_local_dict[self.id]\n",
    "        self.local_sample_number = train_data_local_num_dict[self.id]\n",
    "        self.test_local = test_data_local_dict[self.id]\n",
    "        \n",
    "        self.device = device\n",
    "        self.model = model"
   ]
  },
  {
   "cell_type": "code",
   "execution_count": 6,
   "id": "1988101c",
   "metadata": {},
   "outputs": [],
   "source": [
    "model = Resnet56(class_num=dataset[-1], neck='bnneck')\n",
    "model.load_state_dict(torch.load(str.format('model/cs_{0}_{1}_client_{2}_oral_epochs_{3}.pt', client_num_in_total, partition_method, 0, 200)))\n",
    "# [train_data_num, test_data_num, train_data_global, test_data_global, \\\n",
    "# #             train_data_local_num_dict, train_data_local_dict, test_data_local_dict, \\\n",
    "# #             class_num]\n",
    "client_1 = Client(0, dataset[5], dataset[4], dataset[6], device, model)\n",
    "# global test data\n",
    "# client_1.test_local = dataset[3]"
   ]
  },
  {
   "cell_type": "code",
   "execution_count": 7,
   "id": "bae8ddc5",
   "metadata": {},
   "outputs": [],
   "source": [
    "def test(model, test_data, device):\n",
    "    model.to(device)\n",
    "    model.eval()\n",
    "\n",
    "    metrics = {\n",
    "        'test_correct': 0,\n",
    "        'test_loss': 0,\n",
    "        'test_total': 0\n",
    "    }\n",
    "\n",
    "    criterion = nn.CrossEntropyLoss().to(device)\n",
    "\n",
    "    with torch.no_grad():\n",
    "        for batch_idx, (x, target) in enumerate(test_data):\n",
    "            x = x.to(device)\n",
    "            target = target.to(device)\n",
    "            pred, feat = model(x)\n",
    "            loss = criterion(pred, target)\n",
    "\n",
    "            _, predicted = torch.max(pred, -1)\n",
    "            correct = predicted.eq(target).sum()\n",
    "\n",
    "            metrics['test_correct'] += correct.item()\n",
    "            metrics['test_loss'] += loss.item() * target.size(0)\n",
    "            metrics['test_total'] += target.size(0)\n",
    "            \n",
    "    return metrics"
   ]
  },
  {
   "cell_type": "code",
   "execution_count": 10,
   "id": "eee56906",
   "metadata": {},
   "outputs": [
    {
     "name": "stdout",
     "output_type": "stream",
     "text": [
      "10000\n",
      "test_correct: 0.9036; test_loss: 0.3458588407933712\n"
     ]
    }
   ],
   "source": [
    "metrics = test(client_1.model, client_1.test_local, client_1.device)\n",
    "test_correct = metrics['test_correct']/metrics['test_total']\n",
    "test_loss = metrics['test_loss']/metrics['test_total']\n",
    "print(metrics['test_total'])\n",
    "print(f'test_correct: {test_correct}; test_loss: {test_loss}')"
   ]
  }
 ],
 "metadata": {
  "kernelspec": {
   "display_name": "Python 3",
   "language": "python",
   "name": "python3"
  },
  "language_info": {
   "codemirror_mode": {
    "name": "ipython",
    "version": 3
   },
   "file_extension": ".py",
   "mimetype": "text/x-python",
   "name": "python",
   "nbconvert_exporter": "python",
   "pygments_lexer": "ipython3",
   "version": "3.8.10"
  }
 },
 "nbformat": 4,
 "nbformat_minor": 5
}
