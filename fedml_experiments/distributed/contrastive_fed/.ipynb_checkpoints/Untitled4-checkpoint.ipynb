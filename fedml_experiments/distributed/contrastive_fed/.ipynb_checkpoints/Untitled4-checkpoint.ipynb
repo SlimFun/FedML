{
 "cells": [
  {
   "cell_type": "code",
   "execution_count": 2,
   "id": "045f39ab",
   "metadata": {},
   "outputs": [],
   "source": [
    "import sys, os\n",
    "import argparse\n",
    "\n",
    "sys.path.insert(0, os.path.abspath(os.path.join(os.getcwd(), \"./../../../../\")))\n",
    "sys.path.insert(0, os.path.abspath(os.path.join(os.getcwd(), \"./../../../\")))\n",
    "\n",
    "sys.path.insert(0, os.path.abspath(os.path.join(os.getcwd(), \"\")))"
   ]
  },
  {
   "cell_type": "code",
   "execution_count": 3,
   "id": "a1eedadb",
   "metadata": {},
   "outputs": [],
   "source": [
    "from fedml_api.data_preprocessing.cifar10.data_loader import load_partition_data_cifar10\n",
    "from fedml_api.standalone.fedavg.my_model_trainer_classification import MyModelTrainer as MyModelTrainerCLS\n",
    "from fedml_api.model.contrastive_cv.resnet_with_embedding import Resnet56\n",
    "\n",
    "import torch\n",
    "from torch import nn\n",
    "from collections import OrderedDict\n",
    "import torch.nn.functional as F\n",
    "\n",
    "import matplotlib.pyplot as plt\n",
    "from sklearn.manifold import TSNE\n",
    "import numpy as np\n",
    "import random\n",
    "\n",
    "# from triplet_loss import TripletLoss\n",
    "from hard_triplet_loss import TripletLoss"
   ]
  },
  {
   "cell_type": "code",
   "execution_count": 6,
   "id": "fba485ce",
   "metadata": {},
   "outputs": [],
   "source": [
    "dataset = 'cifar10'\n",
    "data_dir = \"./../../../data/cifar10\"\n",
    "partition_method = 'hetero'\n",
    "# partition_method = 'homo'\n",
    "partition_alpha = 0.5\n",
    "client_num_in_total = 10\n",
    "batch_size = 100\n",
    "total_epochs = 500\n",
    "save_model_path = 'model/client_{0}_triplet_epochs_{1}.pt'\n",
    "\n",
    "device = 'cuda:1'\n",
    "# parser = argparse.ArgumentParser()\n",
    "# parser.add_argument('--client_optimizer', type=str, default='adam',\n",
    "#                         help='SGD with momentum; adam')\n",
    "# parser.add_argument('--epochs', type=int, default=5, metavar='EP',\n",
    "#                         help='how many epochs will be trained locally')\n",
    "\n"
   ]
  },
  {
   "cell_type": "code",
   "execution_count": 7,
   "id": "c64b66c1",
   "metadata": {},
   "outputs": [
    {
     "name": "stderr",
     "output_type": "stream",
     "text": [
      "INFO:root:*********partition data***************\n"
     ]
    },
    {
     "name": "stdout",
     "output_type": "stream",
     "text": [
      "download = True\n",
      "Files already downloaded and verified\n",
      "download = True\n",
      "Files already downloaded and verified\n"
     ]
    },
    {
     "name": "stderr",
     "output_type": "stream",
     "text": [
      "INFO:root:N = 50000\n",
      "INFO:root:traindata_cls_counts = {0: {0: 1427, 1: 1246, 2: 1501, 3: 1460, 4: 251, 5: 1173, 6: 2414, 7: 2140, 8: 2844, 9: 38}, 1: {0: 2131, 1: 1416, 2: 473, 3: 3354, 4: 221, 5: 3446, 6: 2217, 7: 37, 8: 1795, 9: 4756}, 2: {0: 1442, 1: 2338, 2: 3026, 3: 186, 4: 4528, 5: 381, 6: 369, 7: 2823, 8: 361, 9: 206}}\n"
     ]
    },
    {
     "name": "stdout",
     "output_type": "stream",
     "text": [
      "download = True\n",
      "Files already downloaded and verified\n",
      "download = True\n",
      "Files already downloaded and verified\n"
     ]
    },
    {
     "name": "stderr",
     "output_type": "stream",
     "text": [
      "INFO:root:train_dl_global number = 500\n",
      "INFO:root:test_dl_global number = 100\n",
      "INFO:root:client_idx = 0, local_sample_number = 14494\n"
     ]
    },
    {
     "name": "stdout",
     "output_type": "stream",
     "text": [
      "download = True\n",
      "Files already downloaded and verified\n",
      "download = True\n",
      "Files already downloaded and verified\n"
     ]
    },
    {
     "name": "stderr",
     "output_type": "stream",
     "text": [
      "INFO:root:client_idx = 0, batch_num_train_local = 144, batch_num_test_local = 100\n",
      "INFO:root:client_idx = 1, local_sample_number = 19846\n"
     ]
    },
    {
     "name": "stdout",
     "output_type": "stream",
     "text": [
      "download = True\n",
      "Files already downloaded and verified\n",
      "download = True\n",
      "Files already downloaded and verified\n"
     ]
    },
    {
     "name": "stderr",
     "output_type": "stream",
     "text": [
      "INFO:root:client_idx = 1, batch_num_train_local = 198, batch_num_test_local = 100\n",
      "INFO:root:client_idx = 2, local_sample_number = 15660\n"
     ]
    },
    {
     "name": "stdout",
     "output_type": "stream",
     "text": [
      "download = True\n",
      "Files already downloaded and verified\n",
      "download = True\n",
      "Files already downloaded and verified\n"
     ]
    },
    {
     "name": "stderr",
     "output_type": "stream",
     "text": [
      "INFO:root:client_idx = 2, batch_num_train_local = 156, batch_num_test_local = 100\n"
     ]
    }
   ],
   "source": [
    "train_data_num, test_data_num, train_data_global, test_data_global, \\\n",
    "train_data_local_num_dict, train_data_local_dict, test_data_local_dict, \\\n",
    "class_num = load_partition_data_cifar10(dataset, data_dir, partition_method,\n",
    "                        partition_alpha, client_num_in_total, batch_size)"
   ]
  },
  {
   "cell_type": "code",
   "execution_count": 5,
   "id": "4b85177c",
   "metadata": {},
   "outputs": [
    {
     "ename": "TypeError",
     "evalue": "write() argument must be str, not bytes",
     "output_type": "error",
     "traceback": [
      "\u001b[0;31m---------------------------------------------------------------------------\u001b[0m",
      "\u001b[0;31mTypeError\u001b[0m                                 Traceback (most recent call last)",
      "\u001b[0;32m<ipython-input-5-4f53d973697f>\u001b[0m in \u001b[0;36m<module>\u001b[0;34m\u001b[0m\n\u001b[1;32m      1\u001b[0m \u001b[0;32mwith\u001b[0m \u001b[0mopen\u001b[0m\u001b[0;34m(\u001b[0m\u001b[0;34mf'dataset_{partition_method}_{client_num_in_total}.pickle'\u001b[0m\u001b[0;34m,\u001b[0m \u001b[0;34m'w'\u001b[0m\u001b[0;34m)\u001b[0m \u001b[0;32mas\u001b[0m \u001b[0mf\u001b[0m\u001b[0;34m:\u001b[0m\u001b[0;34m\u001b[0m\u001b[0;34m\u001b[0m\u001b[0m\n\u001b[0;32m----> 2\u001b[0;31m     \u001b[0mpickle\u001b[0m\u001b[0;34m.\u001b[0m\u001b[0mdump\u001b[0m\u001b[0;34m(\u001b[0m\u001b[0mdataset\u001b[0m\u001b[0;34m,\u001b[0m \u001b[0mf\u001b[0m\u001b[0;34m)\u001b[0m\u001b[0;34m\u001b[0m\u001b[0;34m\u001b[0m\u001b[0m\n\u001b[0m",
      "\u001b[0;31mTypeError\u001b[0m: write() argument must be str, not bytes"
     ]
    }
   ],
   "source": [
    "d = [train_data_num, test_data_num, train_data_global, test_data_global, \\\n",
    "train_data_local_num_dict, train_data_local_dict, test_data_local_dict, \\\n",
    "class_num]\n",
    "\n",
    "with open(f'dataset_{partition_method}_{client_num_in_total}.pickle', 'wb') as f:\n",
    "    pickle.dump(d, f)"
   ]
  },
  {
   "cell_type": "code",
   "execution_count": 5,
   "id": "f07a0053",
   "metadata": {},
   "outputs": [],
   "source": [
    "class Client(object):\n",
    "    def __init__(self, client_index, train_data_local_dict, train_data_local_num_dict, test_data_local_dict, device, model):\n",
    "        self.id = client_index\n",
    "        self.train_data = train_data_local_dict[self.id]\n",
    "        self.local_sample_number = train_data_local_num_dict[self.id]\n",
    "        self.test_local = test_data_local_dict[self.id]\n",
    "        \n",
    "        self.device = device\n",
    "        self.model = model"
   ]
  },
  {
   "cell_type": "code",
   "execution_count": 6,
   "id": "67bb0b37",
   "metadata": {},
   "outputs": [],
   "source": [
    "model = Resnet56(class_num=class_num, neck='bnneck')\n",
    "client_1 = Client(0, train_data_local_dict, train_data_local_num_dict, test_data_local_dict, device, model)"
   ]
  },
  {
   "cell_type": "code",
   "execution_count": 7,
   "id": "beda16ae",
   "metadata": {},
   "outputs": [],
   "source": [
    "def update_lr(optimizer, lr):    \n",
    "    for param_group in optimizer.param_groups:\n",
    "        param_group['lr'] = lr\n",
    "\n",
    "def train_model(client, epochs):\n",
    "    learning_rate = 0.001\n",
    "    wd = 0.0001\n",
    "#     learning_rate = 0.00035\n",
    "#     wd = 0.0005\n",
    "    \n",
    "    margin = 0.3\n",
    "    \n",
    "    client.model.to(client.device)\n",
    "    client.model.train()\n",
    "    \n",
    "    triplet = TripletLoss(margin)\n",
    "#     triplet = HardTripletLoss(margin)\n",
    "    criterion = nn.CrossEntropyLoss().to(device)\n",
    "    \n",
    "    curr_lr = learning_rate\n",
    "    optimizer = torch.optim.Adam(filter(lambda p: p.requires_grad, client.model.parameters()), lr=curr_lr,\n",
    "                                         weight_decay=wd, amsgrad=True)\n",
    "\n",
    "    epoch_loss = []\n",
    "    total_step = len(client.train_data)\n",
    "    for epoch in range(epochs):\n",
    "        batch_loss = []\n",
    "        for batch_idx, (x, labels) in enumerate(client.train_data):\n",
    "            x, labels = x.to(device), labels.to(device)\n",
    "            client.model.zero_grad()\n",
    "            score, feat = client.model(x)\n",
    "            \n",
    "#             dist_ap, relative_p_inds = torch.max(dist_mat[is_pos].contiguous().view(-1), dim=1, keepdim=True)\n",
    "#             print(dist_mat[is_pos].contiguous())\n",
    "#             dist_ap, relative_p_inds = torch.max(\n",
    "#                 dist_mat[is_pos].contiguous().view(N, -1), 1, keepdim=True)\n",
    "            \n",
    "            tri_loss, tri_prec = triplet(feat, labels)\n",
    "            loss = criterion(score, labels) + tri_loss\n",
    "            loss.backward()\n",
    "\n",
    "            optimizer.step()\n",
    "            batch_loss.append(loss.item())\n",
    "            \n",
    "        if epoch % 100 == 0:\n",
    "            torch.save(client.model.state_dict(), str.format(save_model_path, client.id, epoch))\n",
    "        epoch_loss.append(sum(batch_loss) / len(batch_loss))\n",
    "        print('Client Index = {}\\tEpoch: {}\\tLoss: {:.6f}'.format(\n",
    "            client.id, epoch, sum(batch_loss) / len(batch_loss)))"
   ]
  },
  {
   "cell_type": "code",
   "execution_count": 56,
   "id": "6e3cdb4e",
   "metadata": {},
   "outputs": [
    {
     "name": "stdout",
     "output_type": "stream",
     "text": [
      "Client Index = 0\tEpoch: 0\tLoss: 0.542037\n",
      "Client Index = 0\tEpoch: 1\tLoss: 0.517761\n",
      "Client Index = 0\tEpoch: 2\tLoss: 0.523163\n",
      "Client Index = 0\tEpoch: 3\tLoss: 0.499291\n",
      "Client Index = 0\tEpoch: 4\tLoss: 0.533027\n",
      "Client Index = 0\tEpoch: 5\tLoss: 0.498238\n",
      "Client Index = 0\tEpoch: 6\tLoss: 0.505916\n",
      "Client Index = 0\tEpoch: 7\tLoss: 0.496968\n",
      "Client Index = 0\tEpoch: 8\tLoss: 0.503067\n",
      "Client Index = 0\tEpoch: 9\tLoss: 0.493377\n",
      "Client Index = 0\tEpoch: 10\tLoss: 0.480749\n",
      "Client Index = 0\tEpoch: 11\tLoss: 0.524540\n",
      "Client Index = 0\tEpoch: 12\tLoss: 0.552576\n",
      "Client Index = 0\tEpoch: 13\tLoss: 0.521098\n",
      "Client Index = 0\tEpoch: 14\tLoss: 0.493149\n",
      "Client Index = 0\tEpoch: 15\tLoss: 0.528801\n",
      "Client Index = 0\tEpoch: 16\tLoss: 0.513535\n",
      "Client Index = 0\tEpoch: 17\tLoss: 0.496670\n",
      "Client Index = 0\tEpoch: 18\tLoss: 0.498116\n",
      "Client Index = 0\tEpoch: 19\tLoss: 0.477883\n"
     ]
    }
   ],
   "source": [
    "train_model(client_1, 500)"
   ]
  },
  {
   "cell_type": "code",
   "execution_count": 60,
   "id": "c0e1adf8",
   "metadata": {},
   "outputs": [],
   "source": [
    "save_model_path = 'model/client_{0}_epochs_{1}.pt'\n",
    "torch.save(client_1.model.state_dict(), str.format(save_model_path, 0, 200))"
   ]
  },
  {
   "cell_type": "code",
   "execution_count": 61,
   "id": "1f0d60fc",
   "metadata": {},
   "outputs": [
    {
     "data": {
      "text/plain": [
       "<All keys matched successfully>"
      ]
     },
     "execution_count": 61,
     "metadata": {},
     "output_type": "execute_result"
    }
   ],
   "source": [
    "model2 = Resnet56(class_num=class_num, neck='bnneck')\n",
    "model2.load_state_dict(torch.load(str.format(save_model_path, 0, 200)))"
   ]
  },
  {
   "cell_type": "code",
   "execution_count": 68,
   "id": "bfe11734",
   "metadata": {},
   "outputs": [
    {
     "name": "stdout",
     "output_type": "stream",
     "text": [
      "tensor([[0., 0., 0., 0., 0., 0., 0., 0., 0., 0.]], device='cuda:1',\n",
      "       grad_fn=<SubBackward0>)\n",
      "tensor([[0., 0., 0., 0., 0., 0., 0., 0., 0., 0., 0., 0., 0., 0., 0., 0., 0., 0., 0., 0., 0., 0., 0., 0.,\n",
      "         0., 0., 0., 0., 0., 0., 0., 0., 0., 0., 0., 0., 0., 0., 0., 0., 0., 0., 0., 0., 0., 0., 0., 0.,\n",
      "         0., 0., 0., 0., 0., 0., 0., 0., 0., 0., 0., 0., 0., 0., 0., 0., 0., 0., 0., 0., 0., 0., 0., 0.,\n",
      "         0., 0., 0., 0., 0., 0., 0., 0., 0., 0., 0., 0., 0., 0., 0., 0., 0., 0., 0., 0., 0., 0., 0., 0.,\n",
      "         0., 0., 0., 0., 0., 0., 0., 0., 0., 0., 0., 0., 0., 0., 0., 0., 0., 0., 0., 0., 0., 0., 0., 0.,\n",
      "         0., 0., 0., 0., 0., 0., 0., 0., 0., 0., 0., 0., 0., 0., 0., 0., 0., 0., 0., 0., 0., 0., 0., 0.,\n",
      "         0., 0., 0., 0., 0., 0., 0., 0., 0., 0., 0., 0., 0., 0., 0., 0., 0., 0., 0., 0., 0., 0., 0., 0.,\n",
      "         0., 0., 0., 0., 0., 0., 0., 0., 0., 0., 0., 0., 0., 0., 0., 0., 0., 0., 0., 0., 0., 0., 0., 0.,\n",
      "         0., 0., 0., 0., 0., 0., 0., 0., 0., 0., 0., 0., 0., 0., 0., 0., 0., 0., 0., 0., 0., 0., 0., 0.,\n",
      "         0., 0., 0., 0., 0., 0., 0., 0., 0., 0., 0., 0., 0., 0., 0., 0., 0., 0., 0., 0., 0., 0., 0., 0.,\n",
      "         0., 0., 0., 0., 0., 0., 0., 0., 0., 0., 0., 0., 0., 0., 0., 0.]],\n",
      "       device='cuda:1', grad_fn=<SubBackward0>)\n"
     ]
    }
   ],
   "source": []
  },
  {
   "cell_type": "code",
   "execution_count": 57,
   "id": "f8f8d22b",
   "metadata": {},
   "outputs": [],
   "source": [
    "# def extract_cnn_feature(model, input, modules):\n",
    "    \n",
    "# #     model.eval()\n",
    "#     outputs = OrderedDict()\n",
    "#     handles = []\n",
    "# #     outputs = None\n",
    "#     for m in modules:\n",
    "# #         print(id(m))\n",
    "#         outputs[id(m)] = None\n",
    "#         def func(m, i, o): outputs[id(m)] = o.data.cpu()\n",
    "#         handles.append(module.register_forward_hook(func))\n",
    "        \n",
    "#     model(input)\n",
    "#     for h in handles:\n",
    "#         h.remove()\n",
    "# #     print(outputs.values())\n",
    "#     #return: [1, 64, 256, 8, 8]\n",
    "#     return list(outputs.values())[0]\n",
    "\n",
    "def extract_features(model, data_loader,device):\n",
    "    model.eval()\n",
    "    \n",
    "    features = []\n",
    "    labels = []\n",
    "    \n",
    "    with torch.no_grad():\n",
    "        for batch_idx, (x, l) in enumerate(data_loader):\n",
    "            x, l = x.to(device), l.to(device)\n",
    "            \n",
    "            score, feats = model(x)\n",
    "#             print(feats.shape)\n",
    "            for feat, label in zip(feats, l):\n",
    "                features.append(feat.cpu())\n",
    "                labels.append(label.cpu())\n",
    "            \n",
    "            #[batch_size, channel, w, h]\n",
    "#             outputs = extract_cnn_feature(model, x, module)\n",
    "# #             features.append(outputs)\n",
    "# #             labels.append(labels)\n",
    "# #             print(len(outputs))\n",
    "\n",
    "#             for output, label in zip(outputs, l):\n",
    "# #                 features[batch_idx] = output\n",
    "# #                 labels[batch_idx] = label\n",
    "# #                 print(output.shape)\n",
    "#                 # output: [64, 256, 8, 8]\n",
    "#                 features.append(output.view(-1, 256*8*8))\n",
    "#                 labels.append(label)\n",
    "    \n",
    "#             print(len(outputs))\n",
    "#             print(outputs[0].shape)\n",
    "    \n",
    "    #[79, 64, 256, 8, 8]\n",
    "    return features, labels\n",
    "\n",
    "features, labels = extract_features(client_1.model, client_1.train_data, device)"
   ]
  },
  {
   "cell_type": "code",
   "execution_count": 58,
   "id": "a4cc0bdf",
   "metadata": {},
   "outputs": [
    {
     "name": "stdout",
     "output_type": "stream",
     "text": [
      "Counter({2: 2095, 5: 1512, 4: 1069, 0: 452, 1: 237, 3: 35})\n"
     ]
    }
   ],
   "source": [
    "from collections import Counter\n",
    "ls = np.array([int(l) for l in labels])\n",
    "counter_result = Counter(ls)\n",
    "print(Counter(ls))"
   ]
  },
  {
   "cell_type": "code",
   "execution_count": 59,
   "id": "f4491b2c",
   "metadata": {},
   "outputs": [
    {
     "name": "stdout",
     "output_type": "stream",
     "text": [
      "535\n"
     ]
    },
    {
     "data": {
      "image/png": "[encoded data removed]",
      "text/plain": [
       "<Figure size 432x288 with 1 Axes>"
      ]
     },
     "metadata": {
      "needs_background": "light"
     },
     "output_type": "display_data"
    }
   ],
   "source": [
    "\n",
    "\n",
    "plot_features = torch.squeeze(torch.stack(features),dim=1)\n",
    "plot_features = plot_features.numpy()[sampled_idx]\n",
    "\n",
    "print(len(plot_features))\n",
    "source_features = F.normalize(torch.from_numpy(plot_features), dim=1)\n",
    "\n",
    "\n",
    "tsne = TSNE(n_components=2, init='pca', perplexity=30)\n",
    "Y = tsne.fit_transform(source_features)\n",
    "\n",
    "plt.scatter(Y[:, 0], Y[:, 1], c=ls[sampled_idx])\n",
    "plt.show()"
   ]
  },
  {
   "cell_type": "markdown",
   "id": "9ca56174",
   "metadata": {},
   "source": [
    "\n",
    "\n",
    "plot_features = torch.squeeze(torch.stack(features),dim=1)\n",
    "plot_features = plot_features.numpy()[sampled_idx]\n",
    "\n",
    "print(len(plot_features))\n",
    "source_features = F.normalize(torch.from_numpy(plot_features), dim=1)\n",
    "\n",
    "\n",
    "tsne = TSNE(n_components=2, init='pca', perplexity=30)\n",
    "Y = tsne.fit_transform(source_features)\n",
    "\n",
    "plt.scatter(Y[:, 0], Y[:, 1], c=ls[sampled_idx])\n",
    "plt.show()"
   ]
  },
  {
   "cell_type": "code",
   "execution_count": null,
   "id": "b1b6752d",
   "metadata": {},
   "outputs": [],
   "source": []
  }
 ],
 "metadata": {
  "kernelspec": {
   "display_name": "Python 3",
   "language": "python",
   "name": "python3"
  },
  "language_info": {
   "codemirror_mode": {
    "name": "ipython",
    "version": 3
   },
   "file_extension": ".py",
   "mimetype": "text/x-python",
   "name": "python",
   "nbconvert_exporter": "python",
   "pygments_lexer": "ipython3",
   "version": "3.8.10"
  }
 },
 "nbformat": 4,
 "nbformat_minor": 5
}
