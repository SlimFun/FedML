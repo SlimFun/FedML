{
 "cells": [
  {
   "cell_type": "code",
   "execution_count": null,
   "id": "1d90ae05",
   "metadata": {},
   "outputs": [],
   "source": [
    "import sys, os\n",
    "import argparse\n",
    "\n",
    "sys.path.insert(0, os.path.abspath(os.path.join(os.getcwd(), \"./../../../../\")))\n",
    "sys.path.insert(0, os.path.abspath(os.path.join(os.getcwd(), \"./../../../\")))\n",
    "\n",
    "sys.path.insert(0, os.path.abspath(os.path.join(os.getcwd(), \"\")))"
   ]
  },
  {
   "cell_type": "code",
   "execution_count": 2,
   "id": "2c7bb299",
   "metadata": {},
   "outputs": [],
   "source": [
    "from fedml_api.data_preprocessing.cifar10.data_loader import load_partition_data_cifar10\n",
    "from fedml_api.standalone.fedavg.my_model_trainer_classification import MyModelTrainer as MyModelTrainerCLS\n",
    "from fedml_api.model.cv.resnet import resnet56\n",
    "\n",
    "import torch\n",
    "from torch import nn\n",
    "from collections import OrderedDict\n",
    "import torch.nn.functional as F\n",
    "\n",
    "import matplotlib.pyplot as plt\n",
    "from sklearn.manifold import TSNE\n",
    "import numpy as np\n",
    "import random"
   ]
  },
  {
   "cell_type": "code",
   "execution_count": 3,
   "id": "235cc258",
   "metadata": {},
   "outputs": [],
   "source": [
    "dataset = 'cifar10'\n",
    "data_dir = \"./../../../data/cifar10\"\n",
    "partition_method = 'hetero'\n",
    "# partition_method = 'homo'\n",
    "partition_alpha = 0.5\n",
    "client_num_in_total = 10\n",
    "batch_size = 100\n",
    "total_epochs = 500\n",
    "save_model_path = 'model/client_{0}_epochs_{1}.pt'\n",
    "\n",
    "device = 'cuda:1'\n",
    "# parser = argparse.ArgumentParser()\n",
    "# parser.add_argument('--client_optimizer', type=str, default='adam',\n",
    "#                         help='SGD with momentum; adam')\n",
    "# parser.add_argument('--epochs', type=int, default=5, metavar='EP',\n",
    "#                         help='how many epochs will be trained locally')\n"
   ]
  },
  {
   "cell_type": "code",
   "execution_count": 4,
   "id": "dd3e6abe",
   "metadata": {},
   "outputs": [],
   "source": [
    "# random.seed(0)\n",
    "# np.random.seed(0)\n",
    "# torch.manual_seed(0)\n",
    "# torch.cuda.manual_seed_all(0)"
   ]
  },
  {
   "cell_type": "code",
   "execution_count": 5,
   "id": "ff62b898",
   "metadata": {},
   "outputs": [
    {
     "name": "stderr",
     "output_type": "stream",
     "text": [
      "INFO:root:*********partition data***************\n"
     ]
    },
    {
     "name": "stdout",
     "output_type": "stream",
     "text": [
      "download = True\n",
      "Files already downloaded and verified\n",
      "download = True\n",
      "Files already downloaded and verified\n"
     ]
    },
    {
     "name": "stderr",
     "output_type": "stream",
     "text": [
      "INFO:root:N = 50000\n",
      "INFO:root:traindata_cls_counts = {0: {0: 125, 1: 101, 2: 25, 3: 202, 4: 1, 5: 788, 6: 21, 7: 875, 8: 745, 9: 1038}, 1: {0: 891, 1: 435, 2: 59, 3: 512, 4: 235, 5: 722, 6: 10, 7: 59, 8: 720, 9: 1500}, 2: {0: 957, 1: 202, 2: 908, 3: 11, 4: 18, 6: 39, 7: 551, 8: 348, 9: 20}, 3: {0: 1366, 1: 824, 2: 310, 3: 180, 4: 919, 5: 164, 6: 52, 7: 79, 8: 145, 9: 467}, 4: {0: 99, 1: 1210, 2: 93, 3: 1567, 4: 256, 5: 466, 6: 294, 7: 225, 8: 18, 9: 1158}, 5: {0: 43, 1: 48, 2: 3097, 3: 47, 4: 557, 5: 177, 6: 2423}, 6: {0: 190, 1: 10, 2: 360, 3: 1245, 4: 492, 5: 880, 7: 554, 8: 737, 9: 168}, 7: {0: 1195, 1: 9, 2: 112, 3: 992, 4: 786, 5: 118, 6: 19, 7: 411, 8: 2200}, 8: {0: 100, 1: 545, 2: 8, 3: 3, 4: 926, 5: 1034, 6: 2, 7: 2246, 8: 86, 9: 648}, 9: {0: 34, 1: 1616, 2: 28, 3: 241, 4: 810, 5: 651, 6: 2140, 8: 1, 9: 1}}\n"
     ]
    },
    {
     "name": "stdout",
     "output_type": "stream",
     "text": [
      "download = True\n",
      "Files already downloaded and verified\n",
      "download = True\n",
      "Files already downloaded and verified\n"
     ]
    },
    {
     "name": "stderr",
     "output_type": "stream",
     "text": [
      "INFO:root:train_dl_global number = 500\n",
      "INFO:root:test_dl_global number = 100\n",
      "INFO:root:client_idx = 0, local_sample_number = 3921\n"
     ]
    },
    {
     "name": "stdout",
     "output_type": "stream",
     "text": [
      "download = True\n",
      "Files already downloaded and verified\n",
      "download = True\n",
      "Files already downloaded and verified\n"
     ]
    },
    {
     "name": "stderr",
     "output_type": "stream",
     "text": [
      "INFO:root:client_idx = 0, batch_num_train_local = 39, batch_num_test_local = 100\n",
      "INFO:root:client_idx = 1, local_sample_number = 5143\n"
     ]
    },
    {
     "name": "stdout",
     "output_type": "stream",
     "text": [
      "download = True\n",
      "Files already downloaded and verified\n",
      "download = True\n",
      "Files already downloaded and verified\n"
     ]
    },
    {
     "name": "stderr",
     "output_type": "stream",
     "text": [
      "INFO:root:client_idx = 1, batch_num_train_local = 51, batch_num_test_local = 100\n",
      "INFO:root:client_idx = 2, local_sample_number = 3054\n"
     ]
    },
    {
     "name": "stdout",
     "output_type": "stream",
     "text": [
      "download = True\n",
      "Files already downloaded and verified\n",
      "download = True\n",
      "Files already downloaded and verified\n"
     ]
    },
    {
     "name": "stderr",
     "output_type": "stream",
     "text": [
      "INFO:root:client_idx = 2, batch_num_train_local = 30, batch_num_test_local = 100\n",
      "INFO:root:client_idx = 3, local_sample_number = 4506\n"
     ]
    },
    {
     "name": "stdout",
     "output_type": "stream",
     "text": [
      "download = True\n",
      "Files already downloaded and verified\n",
      "download = True\n",
      "Files already downloaded and verified\n"
     ]
    },
    {
     "name": "stderr",
     "output_type": "stream",
     "text": [
      "INFO:root:client_idx = 3, batch_num_train_local = 45, batch_num_test_local = 100\n",
      "INFO:root:client_idx = 4, local_sample_number = 5386\n"
     ]
    },
    {
     "name": "stdout",
     "output_type": "stream",
     "text": [
      "download = True\n",
      "Files already downloaded and verified\n",
      "download = True\n",
      "Files already downloaded and verified\n"
     ]
    },
    {
     "name": "stderr",
     "output_type": "stream",
     "text": [
      "INFO:root:client_idx = 4, batch_num_train_local = 53, batch_num_test_local = 100\n",
      "INFO:root:client_idx = 5, local_sample_number = 6392\n"
     ]
    },
    {
     "name": "stdout",
     "output_type": "stream",
     "text": [
      "download = True\n",
      "Files already downloaded and verified\n",
      "download = True\n",
      "Files already downloaded and verified\n"
     ]
    },
    {
     "name": "stderr",
     "output_type": "stream",
     "text": [
      "INFO:root:client_idx = 5, batch_num_train_local = 63, batch_num_test_local = 100\n",
      "INFO:root:client_idx = 6, local_sample_number = 4636\n"
     ]
    },
    {
     "name": "stdout",
     "output_type": "stream",
     "text": [
      "download = True\n",
      "Files already downloaded and verified\n",
      "download = True\n",
      "Files already downloaded and verified\n"
     ]
    },
    {
     "name": "stderr",
     "output_type": "stream",
     "text": [
      "INFO:root:client_idx = 6, batch_num_train_local = 46, batch_num_test_local = 100\n",
      "INFO:root:client_idx = 7, local_sample_number = 5842\n"
     ]
    },
    {
     "name": "stdout",
     "output_type": "stream",
     "text": [
      "download = True\n",
      "Files already downloaded and verified\n",
      "download = True\n",
      "Files already downloaded and verified\n"
     ]
    },
    {
     "name": "stderr",
     "output_type": "stream",
     "text": [
      "INFO:root:client_idx = 7, batch_num_train_local = 58, batch_num_test_local = 100\n",
      "INFO:root:client_idx = 8, local_sample_number = 5598\n"
     ]
    },
    {
     "name": "stdout",
     "output_type": "stream",
     "text": [
      "download = True\n",
      "Files already downloaded and verified\n",
      "download = True\n",
      "Files already downloaded and verified\n"
     ]
    },
    {
     "name": "stderr",
     "output_type": "stream",
     "text": [
      "INFO:root:client_idx = 8, batch_num_train_local = 55, batch_num_test_local = 100\n",
      "INFO:root:client_idx = 9, local_sample_number = 5522\n"
     ]
    },
    {
     "name": "stdout",
     "output_type": "stream",
     "text": [
      "download = True\n",
      "Files already downloaded and verified\n",
      "download = True\n",
      "Files already downloaded and verified\n"
     ]
    },
    {
     "name": "stderr",
     "output_type": "stream",
     "text": [
      "INFO:root:client_idx = 9, batch_num_train_local = 55, batch_num_test_local = 100\n"
     ]
    }
   ],
   "source": [
    "train_data_num, test_data_num, train_data_global, test_data_global, \\\n",
    "train_data_local_num_dict, train_data_local_dict, test_data_local_dict, \\\n",
    "class_num = load_partition_data_cifar10(dataset, data_dir, partition_method,\n",
    "                        partition_alpha, client_num_in_total, batch_size)"
   ]
  },
  {
   "cell_type": "code",
   "execution_count": 6,
   "id": "465ff63f",
   "metadata": {},
   "outputs": [],
   "source": [
    "class Client(object):\n",
    "    def __init__(self, client_index, train_data_local_dict, train_data_local_num_dict, test_data_local_dict, device, model):\n",
    "        self.id = client_index\n",
    "        self.train_data = train_data_local_dict[self.id]\n",
    "        self.local_sample_number = train_data_local_num_dict[self.id]\n",
    "        self.test_local = test_data_local_dict[self.id]\n",
    "        \n",
    "        self.device = device\n",
    "        self.model = model"
   ]
  },
  {
   "cell_type": "code",
   "execution_count": 7,
   "id": "5b3943b3",
   "metadata": {},
   "outputs": [],
   "source": [
    "# 3x3 convolution\n",
    "def conv3x3(in_channels, out_channels, stride=1):\n",
    "    return nn.Conv2d(in_channels, out_channels, kernel_size=3, \n",
    "                     stride=stride, padding=1, bias=False)\n",
    "\n",
    "# Residual block\n",
    "class ResidualBlock(nn.Module):\n",
    "    def __init__(self, in_channels, out_channels, stride=1, downsample=None):\n",
    "        super(ResidualBlock, self).__init__()\n",
    "        self.conv1 = conv3x3(in_channels, out_channels, stride)\n",
    "        self.bn1 = nn.BatchNorm2d(out_channels)\n",
    "        self.relu = nn.ReLU(inplace=True)\n",
    "        self.conv2 = conv3x3(out_channels, out_channels)\n",
    "        self.bn2 = nn.BatchNorm2d(out_channels)\n",
    "        self.downsample = downsample\n",
    "\n",
    "    def forward(self, x):\n",
    "        residual = x\n",
    "        out = self.conv1(x)\n",
    "        out = self.bn1(out)\n",
    "        out = self.relu(out)\n",
    "        out = self.conv2(out)\n",
    "        out = self.bn2(out)\n",
    "        if self.downsample:\n",
    "            residual = self.downsample(x)\n",
    "        out += residual\n",
    "        out = self.relu(out)\n",
    "        return out\n",
    "\n",
    "# ResNet\n",
    "class ResNet(nn.Module):\n",
    "    def __init__(self, block, layers, num_classes=10):\n",
    "        super(ResNet, self).__init__()\n",
    "        self.in_channels = 16\n",
    "        self.conv = conv3x3(3, 16)\n",
    "        self.bn = nn.BatchNorm2d(16)\n",
    "        self.relu = nn.ReLU(inplace=True)\n",
    "        self.layer1 = self.make_layer(block, 16, layers[0])\n",
    "        self.layer2 = self.make_layer(block, 32, layers[1], 2)\n",
    "        self.layer3 = self.make_layer(block, 64, layers[2], 2)\n",
    "        self.avg_pool = nn.AvgPool2d(8)\n",
    "        self.fc = nn.Linear(64, num_classes)\n",
    "\n",
    "    def make_layer(self, block, out_channels, blocks, stride=1):\n",
    "        downsample = None\n",
    "        if (stride != 1) or (self.in_channels != out_channels):\n",
    "            downsample = nn.Sequential(\n",
    "                conv3x3(self.in_channels, out_channels, stride=stride),\n",
    "                nn.BatchNorm2d(out_channels))\n",
    "        layers = []\n",
    "        layers.append(block(self.in_channels, out_channels, stride, downsample))\n",
    "        self.in_channels = out_channels\n",
    "        for i in range(1, blocks):\n",
    "            layers.append(block(out_channels, out_channels))\n",
    "        return nn.Sequential(*layers)\n",
    "\n",
    "    def forward(self, x):\n",
    "        out = self.conv(x)\n",
    "        out = self.bn(out)\n",
    "        out = self.relu(out)\n",
    "        out = self.layer1(out)\n",
    "        out = self.layer2(out)\n",
    "        out = self.layer3(out)\n",
    "        out = self.avg_pool(out)\n",
    "        out = out.view(out.size(0), -1)\n",
    "        out = self.fc(out)\n",
    "        return out\n",
    "\n",
    "# model = ResNet(ResidualBlock, [6, 6, 6]).to(device)"
   ]
  },
  {
   "cell_type": "code",
   "execution_count": 8,
   "id": "fccf6501",
   "metadata": {},
   "outputs": [],
   "source": [
    "model = resnet56(class_num=class_num)\n",
    "client_1 = Client(0, train_data_local_dict, train_data_local_num_dict, test_data_local_dict, device, model)"
   ]
  },
  {
   "cell_type": "code",
   "execution_count": 9,
   "id": "664ed9ed",
   "metadata": {},
   "outputs": [
    {
     "name": "stdout",
     "output_type": "stream",
     "text": [
      "3921\n"
     ]
    }
   ],
   "source": [
    "print(client_1.local_sample_number)"
   ]
  },
  {
   "cell_type": "code",
   "execution_count": 10,
   "id": "5dcf8ad2",
   "metadata": {},
   "outputs": [
    {
     "name": "stdout",
     "output_type": "stream",
     "text": [
      "\n",
      "conv1\n",
      "bn1\n",
      "relu\n",
      "layer1\n",
      "layer1.0\n",
      "layer1.0.conv1\n",
      "layer1.0.bn1\n",
      "layer1.0.conv2\n",
      "layer1.0.bn2\n",
      "layer1.0.conv3\n",
      "layer1.0.bn3\n",
      "layer1.0.relu\n",
      "layer1.0.downsample\n",
      "layer1.0.downsample.0\n",
      "layer1.0.downsample.1\n",
      "layer1.1\n",
      "layer1.1.conv1\n",
      "layer1.1.bn1\n",
      "layer1.1.conv2\n",
      "layer1.1.bn2\n",
      "layer1.1.conv3\n",
      "layer1.1.bn3\n",
      "layer1.1.relu\n",
      "layer1.2\n",
      "layer1.2.conv1\n",
      "layer1.2.bn1\n",
      "layer1.2.conv2\n",
      "layer1.2.bn2\n",
      "layer1.2.conv3\n",
      "layer1.2.bn3\n",
      "layer1.2.relu\n",
      "layer1.3\n",
      "layer1.3.conv1\n",
      "layer1.3.bn1\n",
      "layer1.3.conv2\n",
      "layer1.3.bn2\n",
      "layer1.3.conv3\n",
      "layer1.3.bn3\n",
      "layer1.3.relu\n",
      "layer1.4\n",
      "layer1.4.conv1\n",
      "layer1.4.bn1\n",
      "layer1.4.conv2\n",
      "layer1.4.bn2\n",
      "layer1.4.conv3\n",
      "layer1.4.bn3\n",
      "layer1.4.relu\n",
      "layer1.5\n",
      "layer1.5.conv1\n",
      "layer1.5.bn1\n",
      "layer1.5.conv2\n",
      "layer1.5.bn2\n",
      "layer1.5.conv3\n",
      "layer1.5.bn3\n",
      "layer1.5.relu\n",
      "layer2\n",
      "layer2.0\n",
      "layer2.0.conv1\n",
      "layer2.0.bn1\n",
      "layer2.0.conv2\n",
      "layer2.0.bn2\n",
      "layer2.0.conv3\n",
      "layer2.0.bn3\n",
      "layer2.0.relu\n",
      "layer2.0.downsample\n",
      "layer2.0.downsample.0\n",
      "layer2.0.downsample.1\n",
      "layer2.1\n",
      "layer2.1.conv1\n",
      "layer2.1.bn1\n",
      "layer2.1.conv2\n",
      "layer2.1.bn2\n",
      "layer2.1.conv3\n",
      "layer2.1.bn3\n",
      "layer2.1.relu\n",
      "layer2.2\n",
      "layer2.2.conv1\n",
      "layer2.2.bn1\n",
      "layer2.2.conv2\n",
      "layer2.2.bn2\n",
      "layer2.2.conv3\n",
      "layer2.2.bn3\n",
      "layer2.2.relu\n",
      "layer2.3\n",
      "layer2.3.conv1\n",
      "layer2.3.bn1\n",
      "layer2.3.conv2\n",
      "layer2.3.bn2\n",
      "layer2.3.conv3\n",
      "layer2.3.bn3\n",
      "layer2.3.relu\n",
      "layer2.4\n",
      "layer2.4.conv1\n",
      "layer2.4.bn1\n",
      "layer2.4.conv2\n",
      "layer2.4.bn2\n",
      "layer2.4.conv3\n",
      "layer2.4.bn3\n",
      "layer2.4.relu\n",
      "layer2.5\n",
      "layer2.5.conv1\n",
      "layer2.5.bn1\n",
      "layer2.5.conv2\n",
      "layer2.5.bn2\n",
      "layer2.5.conv3\n",
      "layer2.5.bn3\n",
      "layer2.5.relu\n",
      "layer3\n",
      "layer3.0\n",
      "layer3.0.conv1\n",
      "layer3.0.bn1\n",
      "layer3.0.conv2\n",
      "layer3.0.bn2\n",
      "layer3.0.conv3\n",
      "layer3.0.bn3\n",
      "layer3.0.relu\n",
      "layer3.0.downsample\n",
      "layer3.0.downsample.0\n",
      "layer3.0.downsample.1\n",
      "layer3.1\n",
      "layer3.1.conv1\n",
      "layer3.1.bn1\n",
      "layer3.1.conv2\n",
      "layer3.1.bn2\n",
      "layer3.1.conv3\n",
      "layer3.1.bn3\n",
      "layer3.1.relu\n",
      "layer3.2\n",
      "layer3.2.conv1\n",
      "layer3.2.bn1\n",
      "layer3.2.conv2\n",
      "layer3.2.bn2\n",
      "layer3.2.conv3\n",
      "layer3.2.bn3\n",
      "layer3.2.relu\n",
      "layer3.3\n",
      "layer3.3.conv1\n",
      "layer3.3.bn1\n",
      "layer3.3.conv2\n",
      "layer3.3.bn2\n",
      "layer3.3.conv3\n",
      "layer3.3.bn3\n",
      "layer3.3.relu\n",
      "layer3.4\n",
      "layer3.4.conv1\n",
      "layer3.4.bn1\n",
      "layer3.4.conv2\n",
      "layer3.4.bn2\n",
      "layer3.4.conv3\n",
      "layer3.4.bn3\n",
      "layer3.4.relu\n",
      "layer3.5\n",
      "layer3.5.conv1\n",
      "layer3.5.bn1\n",
      "layer3.5.conv2\n",
      "layer3.5.bn2\n",
      "layer3.5.conv3\n",
      "layer3.5.bn3\n",
      "layer3.5.relu\n",
      "avgpool\n",
      "fc\n"
     ]
    }
   ],
   "source": [
    "# model_trainer = MyModelTrainerCLS(model)\n",
    "for n, m in client_1.model.named_modules():\n",
    "    print(n)"
   ]
  },
  {
   "cell_type": "code",
   "execution_count": 11,
   "id": "32775094",
   "metadata": {
    "scrolled": true
   },
   "outputs": [],
   "source": [
    "# For updating learning rate\n",
    "def update_lr(optimizer, lr):    \n",
    "    for param_group in optimizer.param_groups:\n",
    "        param_group['lr'] = lr\n",
    "\n",
    "learning_rate = 0.001\n",
    "# Train the model\n",
    "def train_model_1(client, epochs):\n",
    "    total_step = len(client.train_data)\n",
    "    curr_lr = learning_rate\n",
    "    \n",
    "    criterion = nn.CrossEntropyLoss().to(client.device)\n",
    "    optimizer = torch.optim.Adam(model.parameters(), lr=learning_rate)\n",
    "    \n",
    "    for epoch in range(epochs):\n",
    "        for i, (images, labels) in enumerate(client.train_data):\n",
    "            images = images.to(client.device)\n",
    "            labels = labels.to(client.device)\n",
    "\n",
    "            # Forward pass\n",
    "            outputs = client.model(images)\n",
    "            loss = criterion(outputs, labels)\n",
    "\n",
    "            # Backward and optimize\n",
    "            optimizer.zero_grad()\n",
    "            loss.backward()\n",
    "            optimizer.step()\n",
    "\n",
    "            if (i+1) % 10 == 0:\n",
    "                print (\"Epoch [{}/{}], Step [{}/{}] Loss: {:.4f}\"\n",
    "                       .format(epoch+1, epochs, i+1, total_step, loss.item()))\n",
    "\n",
    "        # Decay learning rate\n",
    "        if (epoch+1) % 200 == 0:\n",
    "            curr_lr /= 3\n",
    "            update_lr(optimizer, curr_lr)"
   ]
  },
  {
   "cell_type": "code",
   "execution_count": 12,
   "id": "3f795cb0",
   "metadata": {},
   "outputs": [],
   "source": [
    "# train_model_1(client_1, 100)"
   ]
  },
  {
   "cell_type": "code",
   "execution_count": 13,
   "id": "1f65ef76",
   "metadata": {},
   "outputs": [],
   "source": [
    "def update_lr(optimizer, lr):    \n",
    "    for param_group in optimizer.param_groups:\n",
    "        param_group['lr'] = lr\n",
    "\n",
    "def train_model(client, epochs):\n",
    "    learning_rate = 0.001\n",
    "    wd = 0.0001\n",
    "    \n",
    "    client.model.to(client.device)\n",
    "    client.model.train()\n",
    "    \n",
    "    criterion = nn.CrossEntropyLoss().to(device)\n",
    "    \n",
    "#     optimizer = torch.optim.Adam(client.model.parameters(), lr=learning_rate)\n",
    "    \n",
    "    curr_lr = learning_rate\n",
    "    optimizer = torch.optim.Adam(filter(lambda p: p.requires_grad, client.model.parameters()), lr=curr_lr,\n",
    "                                         weight_decay=wd, amsgrad=True)\n",
    "#     optimizer = torch.optim.SGD(client.model.parameters(), 0.1,\n",
    "#                                 momentum=0.9,\n",
    "#                                 weight_decay=1e-4)\n",
    "#     lr_scheduler = torch.optim.lr_scheduler.MultiStepLR(optimizer,\n",
    "#                                                         milestones=[100, 150], last_epoch=0 - 1)\n",
    "\n",
    "    epoch_loss = []\n",
    "    total_step = len(client.train_data)\n",
    "    for epoch in range(epochs):\n",
    "        batch_loss = []\n",
    "        for batch_idx, (x, labels) in enumerate(client.train_data):\n",
    "            x, labels = x.to(device), labels.to(device)\n",
    "            client.model.zero_grad()\n",
    "            log_probs = client.model(x)\n",
    "            loss = criterion(log_probs, labels)\n",
    "            loss.backward()\n",
    "\n",
    "            # to avoid nan loss\n",
    "#             torch.nn.utils.clip_grad_norm_(client.model.parameters(), 1.0)\n",
    "\n",
    "            optimizer.step()\n",
    "            # logging.info('Update Epoch: {} [{}/{} ({:.0f}%)]\\tLoss: {:.6f}'.format(\n",
    "            #     epoch, (batch_idx + 1) * args.batch_size, len(train_data) * args.batch_size,\n",
    "            #            100. * (batch_idx + 1) / len(train_data), loss.item()))\n",
    "            batch_loss.append(loss.item())\n",
    "            \n",
    "#             if (batch_idx+1) % 10 == 0:\n",
    "#                 print(\"Epoch [{}/{}], Step [{}/{}] Loss: {:.4f}\".format(epoch+1, epochs, batch_idx+1, total_step, loss.item()))\n",
    "            \n",
    "#             lr_scheduler.step()\n",
    "        \n",
    "#         if (epoch+1) % 5 == 0:\n",
    "#             curr_lr /= 2\n",
    "#             update_lr(optimizer, curr_lr)\n",
    "        epoch_loss.append(sum(batch_loss) / len(batch_loss))\n",
    "        print('Client Index = {}\\tEpoch: {}\\tLoss: {:.6f}'.format(\n",
    "            client.id, epoch, sum(batch_loss) / len(batch_loss)))"
   ]
  },
  {
   "cell_type": "code",
   "execution_count": 30,
   "id": "0952f69c",
   "metadata": {
    "scrolled": false
   },
   "outputs": [
    {
     "name": "stdout",
     "output_type": "stream",
     "text": [
      "Client Index = 0\tEpoch: 0\tLoss: 0.160854\n",
      "Client Index = 0\tEpoch: 1\tLoss: 0.172566\n",
      "Client Index = 0\tEpoch: 2\tLoss: 0.137750\n",
      "Client Index = 0\tEpoch: 3\tLoss: 0.125842\n",
      "Client Index = 0\tEpoch: 4\tLoss: 0.153692\n",
      "Client Index = 0\tEpoch: 5\tLoss: 0.174118\n",
      "Client Index = 0\tEpoch: 6\tLoss: 0.134972\n",
      "Client Index = 0\tEpoch: 7\tLoss: 0.133487\n",
      "Client Index = 0\tEpoch: 8\tLoss: 0.127765\n",
      "Client Index = 0\tEpoch: 9\tLoss: 0.132957\n",
      "Client Index = 0\tEpoch: 10\tLoss: 0.149804\n",
      "Client Index = 0\tEpoch: 11\tLoss: 0.144157\n",
      "Client Index = 0\tEpoch: 12\tLoss: 0.126539\n",
      "Client Index = 0\tEpoch: 13\tLoss: 0.133755\n",
      "Client Index = 0\tEpoch: 14\tLoss: 0.135259\n",
      "Client Index = 0\tEpoch: 15\tLoss: 0.126071\n",
      "Client Index = 0\tEpoch: 16\tLoss: 0.157877\n",
      "Client Index = 0\tEpoch: 17\tLoss: 0.150231\n",
      "Client Index = 0\tEpoch: 18\tLoss: 0.135264\n",
      "Client Index = 0\tEpoch: 19\tLoss: 0.138283\n",
      "Client Index = 0\tEpoch: 20\tLoss: 0.132155\n",
      "Client Index = 0\tEpoch: 21\tLoss: 0.135912\n",
      "Client Index = 0\tEpoch: 22\tLoss: 0.124361\n",
      "Client Index = 0\tEpoch: 23\tLoss: 0.121862\n",
      "Client Index = 0\tEpoch: 24\tLoss: 0.121622\n",
      "Client Index = 0\tEpoch: 25\tLoss: 0.139766\n",
      "Client Index = 0\tEpoch: 26\tLoss: 0.135813\n",
      "Client Index = 0\tEpoch: 27\tLoss: 0.126186\n",
      "Client Index = 0\tEpoch: 28\tLoss: 0.133300\n",
      "Client Index = 0\tEpoch: 29\tLoss: 0.122729\n",
      "Client Index = 0\tEpoch: 30\tLoss: 0.141667\n",
      "Client Index = 0\tEpoch: 31\tLoss: 0.126547\n",
      "Client Index = 0\tEpoch: 32\tLoss: 0.124909\n",
      "Client Index = 0\tEpoch: 33\tLoss: 0.113879\n",
      "Client Index = 0\tEpoch: 34\tLoss: 0.102264\n",
      "Client Index = 0\tEpoch: 35\tLoss: 0.129648\n",
      "Client Index = 0\tEpoch: 36\tLoss: 0.128282\n",
      "Client Index = 0\tEpoch: 37\tLoss: 0.147847\n",
      "Client Index = 0\tEpoch: 38\tLoss: 0.143948\n",
      "Client Index = 0\tEpoch: 39\tLoss: 0.137869\n",
      "Client Index = 0\tEpoch: 40\tLoss: 0.130698\n",
      "Client Index = 0\tEpoch: 41\tLoss: 0.115254\n",
      "Client Index = 0\tEpoch: 42\tLoss: 0.114453\n",
      "Client Index = 0\tEpoch: 43\tLoss: 0.124489\n",
      "Client Index = 0\tEpoch: 44\tLoss: 0.123807\n",
      "Client Index = 0\tEpoch: 45\tLoss: 0.104474\n",
      "Client Index = 0\tEpoch: 46\tLoss: 0.124793\n",
      "Client Index = 0\tEpoch: 47\tLoss: 0.126305\n",
      "Client Index = 0\tEpoch: 48\tLoss: 0.139827\n",
      "Client Index = 0\tEpoch: 49\tLoss: 0.105872\n",
      "Client Index = 0\tEpoch: 50\tLoss: 0.122647\n",
      "Client Index = 0\tEpoch: 51\tLoss: 0.124292\n",
      "Client Index = 0\tEpoch: 52\tLoss: 0.124793\n",
      "Client Index = 0\tEpoch: 53\tLoss: 0.106080\n",
      "Client Index = 0\tEpoch: 54\tLoss: 0.124485\n",
      "Client Index = 0\tEpoch: 55\tLoss: 0.112920\n",
      "Client Index = 0\tEpoch: 56\tLoss: 0.122414\n",
      "Client Index = 0\tEpoch: 57\tLoss: 0.112170\n",
      "Client Index = 0\tEpoch: 58\tLoss: 0.125313\n",
      "Client Index = 0\tEpoch: 59\tLoss: 0.108472\n",
      "Client Index = 0\tEpoch: 60\tLoss: 0.107709\n",
      "Client Index = 0\tEpoch: 61\tLoss: 0.114096\n",
      "Client Index = 0\tEpoch: 62\tLoss: 0.107126\n",
      "Client Index = 0\tEpoch: 63\tLoss: 0.104230\n",
      "Client Index = 0\tEpoch: 64\tLoss: 0.119473\n",
      "Client Index = 0\tEpoch: 65\tLoss: 0.103741\n",
      "Client Index = 0\tEpoch: 66\tLoss: 0.110020\n",
      "Client Index = 0\tEpoch: 67\tLoss: 0.097881\n",
      "Client Index = 0\tEpoch: 68\tLoss: 0.096574\n",
      "Client Index = 0\tEpoch: 69\tLoss: 0.116922\n",
      "Client Index = 0\tEpoch: 70\tLoss: 0.121010\n",
      "Client Index = 0\tEpoch: 71\tLoss: 0.110303\n",
      "Client Index = 0\tEpoch: 72\tLoss: 0.116592\n",
      "Client Index = 0\tEpoch: 73\tLoss: 0.113024\n",
      "Client Index = 0\tEpoch: 74\tLoss: 0.092552\n",
      "Client Index = 0\tEpoch: 75\tLoss: 0.129796\n",
      "Client Index = 0\tEpoch: 76\tLoss: 0.110533\n",
      "Client Index = 0\tEpoch: 77\tLoss: 0.102196\n",
      "Client Index = 0\tEpoch: 78\tLoss: 0.105824\n",
      "Client Index = 0\tEpoch: 79\tLoss: 0.116048\n",
      "Client Index = 0\tEpoch: 80\tLoss: 0.103195\n",
      "Client Index = 0\tEpoch: 81\tLoss: 0.102526\n",
      "Client Index = 0\tEpoch: 82\tLoss: 0.105367\n",
      "Client Index = 0\tEpoch: 83\tLoss: 0.090962\n",
      "Client Index = 0\tEpoch: 84\tLoss: 0.098546\n",
      "Client Index = 0\tEpoch: 85\tLoss: 0.101805\n",
      "Client Index = 0\tEpoch: 86\tLoss: 0.105555\n",
      "Client Index = 0\tEpoch: 87\tLoss: 0.108821\n",
      "Client Index = 0\tEpoch: 88\tLoss: 0.082059\n",
      "Client Index = 0\tEpoch: 89\tLoss: 0.088801\n",
      "Client Index = 0\tEpoch: 90\tLoss: 0.088830\n",
      "Client Index = 0\tEpoch: 91\tLoss: 0.091680\n",
      "Client Index = 0\tEpoch: 92\tLoss: 0.099277\n",
      "Client Index = 0\tEpoch: 93\tLoss: 0.103551\n",
      "Client Index = 0\tEpoch: 94\tLoss: 0.105547\n",
      "Client Index = 0\tEpoch: 95\tLoss: 0.113365\n",
      "Client Index = 0\tEpoch: 96\tLoss: 0.102101\n",
      "Client Index = 0\tEpoch: 97\tLoss: 0.120204\n",
      "Client Index = 0\tEpoch: 98\tLoss: 0.086118\n",
      "Client Index = 0\tEpoch: 99\tLoss: 0.086474\n"
     ]
    }
   ],
   "source": [
    "train_model(client_1, 100)"
   ]
  },
  {
   "cell_type": "code",
   "execution_count": null,
   "id": "aeb801c2",
   "metadata": {},
   "outputs": [],
   "source": []
  },
  {
   "cell_type": "code",
   "execution_count": 31,
   "id": "be6a6b58",
   "metadata": {},
   "outputs": [
    {
     "name": "stdout",
     "output_type": "stream",
     "text": [
      "ReLU(inplace=True)\n"
     ]
    }
   ],
   "source": [
    "# modules = list(client_1.model.modules()[:-1])\n",
    "for name, m in client_1.model.named_modules():\n",
    "    if name == 'layer3.5.relu':\n",
    "        print(m)\n",
    "# print(modules)"
   ]
  },
  {
   "cell_type": "code",
   "execution_count": 32,
   "id": "b457f9c4",
   "metadata": {},
   "outputs": [
    {
     "name": "stdout",
     "output_type": "stream",
     "text": [
      "ReLU(inplace=True)\n"
     ]
    }
   ],
   "source": [
    "def extract_cnn_feature(model, input, modules):\n",
    "#     model.eval()\n",
    "    outputs = OrderedDict()\n",
    "    handles = []\n",
    "#     outputs = None\n",
    "    for m in modules:\n",
    "#         print(id(m))\n",
    "        outputs[id(m)] = None\n",
    "        def func(m, i, o): outputs[id(m)] = o.data.cpu()\n",
    "        handles.append(module.register_forward_hook(func))\n",
    "        \n",
    "    model(input)\n",
    "    for h in handles:\n",
    "        h.remove()\n",
    "#     print(outputs.values())\n",
    "    #return: [1, 64, 256, 8, 8]\n",
    "    return list(outputs.values())[0]\n",
    "\n",
    "def extract_features(model, data_loader,device, module):\n",
    "    model.eval()\n",
    "    \n",
    "    features = []\n",
    "    labels = []\n",
    "    \n",
    "    with torch.no_grad():\n",
    "        for batch_idx, (x, l) in enumerate(data_loader):\n",
    "            x, l = x.to(device), l.to(device)\n",
    "            \n",
    "            #[batch_size, channel, w, h]\n",
    "            outputs = extract_cnn_feature(model, x, module)\n",
    "#             features.append(outputs)\n",
    "#             labels.append(labels)\n",
    "#             print(len(outputs))\n",
    "\n",
    "            for output, label in zip(outputs, l):\n",
    "#                 features[batch_idx] = output\n",
    "#                 labels[batch_idx] = label\n",
    "#                 print(output.shape)\n",
    "                # output: [64, 256, 8, 8]\n",
    "                features.append(output.view(-1, 256*8*8))\n",
    "                labels.append(label)\n",
    "    \n",
    "#             print(len(outputs))\n",
    "#             print(outputs[0].shape)\n",
    "    \n",
    "    #[79, 64, 256, 8, 8]\n",
    "    return features, labels\n",
    "            \n",
    "module = None\n",
    "for name, m in client_1.model.named_modules():\n",
    "    if name == 'layer3.5.relu':\n",
    "        module = m\n",
    "print(module)\n",
    "\n",
    "# features, labels = extract_features(client_1.model, test_data_global, device, [module])\n",
    "features, labels = extract_features(client_1.model, client_1.train_data, device, [module])"
   ]
  },
  {
   "cell_type": "code",
   "execution_count": 33,
   "id": "1a42f56c",
   "metadata": {},
   "outputs": [
    {
     "name": "stdout",
     "output_type": "stream",
     "text": [
      "Counter({9: 1034, 7: 873, 5: 781, 8: 742, 3: 199, 0: 124, 1: 101, 2: 25, 6: 20, 4: 1})\n"
     ]
    }
   ],
   "source": [
    "from collections import Counter\n",
    "ls = np.array([int(l) for l in labels])\n",
    "counter_result = Counter(ls)\n",
    "print(Counter(ls))"
   ]
  },
  {
   "cell_type": "code",
   "execution_count": 34,
   "id": "aa67b95c",
   "metadata": {},
   "outputs": [],
   "source": [
    "# class imbalance sample\n",
    "# ks = counter_result.keys()\n",
    "def get_index(lst, item):\n",
    "    return [i for i in range(len(lst)) if lst[i]==item]\n",
    "\n",
    "sampled_idx = []\n",
    "for k, v in counter_result.items():\n",
    "#     print(f'{k}-{v}')\n",
    "    idx = get_index(ls, k)\n",
    "#     print(len(idx))\n",
    "    sampled_idx.extend(random.sample(idx, 100 if v>=100 else v))\n",
    "    \n",
    "# print(len(sampled_idx))"
   ]
  },
  {
   "cell_type": "code",
   "execution_count": 35,
   "id": "2d780450",
   "metadata": {},
   "outputs": [
    {
     "name": "stdout",
     "output_type": "stream",
     "text": [
      "746\n"
     ]
    },
    {
     "data": {
      "image/png": "[encoded data removed]",
      "text/plain": [
       "<Figure size 432x288 with 1 Axes>"
      ]
     },
     "metadata": {
      "needs_background": "light"
     },
     "output_type": "display_data"
    }
   ],
   "source": [
    "# print(shape(features))\n",
    "# print(np.array(features[0][0]))\n",
    "# print(features[0])\n",
    "# print(np.array(features[0][0]).shape)\n",
    "# print(torch.stack(labels).shape)\n",
    "\n",
    "plot_features = torch.squeeze(torch.stack(features),dim=1)\n",
    "plot_features = plot_features.numpy()[sampled_idx]\n",
    "# for idx in sampled_idx:\n",
    "#     plt_f.append(plot_features[idx])\n",
    "print(len(plot_features))\n",
    "source_features = F.normalize(torch.from_numpy(plot_features), dim=1)\n",
    "\n",
    "\n",
    "tsne = TSNE(n_components=2, init='pca', perplexity=30)\n",
    "Y = tsne.fit_transform(source_features)\n",
    "\n",
    "plt.scatter(Y[:, 0], Y[:, 1], c=ls[sampled_idx])\n",
    "plt.show()"
   ]
  },
  {
   "cell_type": "code",
   "execution_count": 20,
   "id": "9725870e",
   "metadata": {},
   "outputs": [],
   "source": [
    "torch.save(client_1.model.state_dict(), str.format(save_model_path, 0, 200))"
   ]
  },
  {
   "cell_type": "code",
   "execution_count": 21,
   "id": "fcccd784",
   "metadata": {},
   "outputs": [
    {
     "data": {
      "text/plain": [
       "<All keys matched successfully>"
      ]
     },
     "execution_count": 21,
     "metadata": {},
     "output_type": "execute_result"
    }
   ],
   "source": [
    "model2 = resnet56(class_num=class_num)\n",
    "model2.load_state_dict(torch.load(str.format(save_model_path, 0, 200)))"
   ]
  },
  {
   "cell_type": "code",
   "execution_count": 22,
   "id": "243031ef",
   "metadata": {},
   "outputs": [
    {
     "ename": "RuntimeError",
     "evalue": "Input type (torch.cuda.FloatTensor) and weight type (torch.FloatTensor) should be the same",
     "output_type": "error",
     "traceback": [
      "\u001b[0;31m---------------------------------------------------------------------------\u001b[0m",
      "\u001b[0;31mRuntimeError\u001b[0m                              Traceback (most recent call last)",
      "\u001b[0;32m<ipython-input-22-0c2399f46734>\u001b[0m in \u001b[0;36m<module>\u001b[0;34m\u001b[0m\n\u001b[1;32m      1\u001b[0m \u001b[0minput\u001b[0m \u001b[0;34m=\u001b[0m \u001b[0mtorch\u001b[0m\u001b[0;34m.\u001b[0m\u001b[0mrand\u001b[0m\u001b[0;34m(\u001b[0m\u001b[0;36m1\u001b[0m\u001b[0;34m,\u001b[0m \u001b[0;36m3\u001b[0m\u001b[0;34m,\u001b[0m \u001b[0;36m32\u001b[0m\u001b[0;34m,\u001b[0m \u001b[0;36m32\u001b[0m\u001b[0;34m)\u001b[0m\u001b[0;34m.\u001b[0m\u001b[0mto\u001b[0m\u001b[0;34m(\u001b[0m\u001b[0mdevice\u001b[0m\u001b[0;34m)\u001b[0m\u001b[0;34m\u001b[0m\u001b[0;34m\u001b[0m\u001b[0m\n\u001b[0;32m----> 2\u001b[0;31m \u001b[0mprint\u001b[0m\u001b[0;34m(\u001b[0m\u001b[0mclient_1\u001b[0m\u001b[0;34m.\u001b[0m\u001b[0mmodel\u001b[0m\u001b[0;34m(\u001b[0m\u001b[0minput\u001b[0m\u001b[0;34m)\u001b[0m \u001b[0;34m-\u001b[0m \u001b[0mmodel2\u001b[0m\u001b[0;34m(\u001b[0m\u001b[0minput\u001b[0m\u001b[0;34m)\u001b[0m\u001b[0;34m)\u001b[0m\u001b[0;34m\u001b[0m\u001b[0;34m\u001b[0m\u001b[0m\n\u001b[0m\u001b[1;32m      3\u001b[0m \u001b[0;34m\u001b[0m\u001b[0m\n",
      "\u001b[0;32m/home/amax/anaconda3/envs/py38/lib/python3.8/site-packages/torch/nn/modules/module.py\u001b[0m in \u001b[0;36m_call_impl\u001b[0;34m(self, *input, **kwargs)\u001b[0m\n\u001b[1;32m   1049\u001b[0m         if not (self._backward_hooks or self._forward_hooks or self._forward_pre_hooks or _global_backward_hooks\n\u001b[1;32m   1050\u001b[0m                 or _global_forward_hooks or _global_forward_pre_hooks):\n\u001b[0;32m-> 1051\u001b[0;31m             \u001b[0;32mreturn\u001b[0m \u001b[0mforward_call\u001b[0m\u001b[0;34m(\u001b[0m\u001b[0;34m*\u001b[0m\u001b[0minput\u001b[0m\u001b[0;34m,\u001b[0m \u001b[0;34m**\u001b[0m\u001b[0mkwargs\u001b[0m\u001b[0;34m)\u001b[0m\u001b[0;34m\u001b[0m\u001b[0;34m\u001b[0m\u001b[0m\n\u001b[0m\u001b[1;32m   1052\u001b[0m         \u001b[0;31m# Do not call functions when jit is used\u001b[0m\u001b[0;34m\u001b[0m\u001b[0;34m\u001b[0m\u001b[0;34m\u001b[0m\u001b[0m\n\u001b[1;32m   1053\u001b[0m         \u001b[0mfull_backward_hooks\u001b[0m\u001b[0;34m,\u001b[0m \u001b[0mnon_full_backward_hooks\u001b[0m \u001b[0;34m=\u001b[0m \u001b[0;34m[\u001b[0m\u001b[0;34m]\u001b[0m\u001b[0;34m,\u001b[0m \u001b[0;34m[\u001b[0m\u001b[0;34m]\u001b[0m\u001b[0;34m\u001b[0m\u001b[0;34m\u001b[0m\u001b[0m\n",
      "\u001b[0;32m~/nfs_mnt/FedML/fedml_api/model/cv/resnet.py\u001b[0m in \u001b[0;36mforward\u001b[0;34m(self, x)\u001b[0m\n\u001b[1;32m    184\u001b[0m \u001b[0;34m\u001b[0m\u001b[0m\n\u001b[1;32m    185\u001b[0m     \u001b[0;32mdef\u001b[0m \u001b[0mforward\u001b[0m\u001b[0;34m(\u001b[0m\u001b[0mself\u001b[0m\u001b[0;34m,\u001b[0m \u001b[0mx\u001b[0m\u001b[0;34m)\u001b[0m\u001b[0;34m:\u001b[0m\u001b[0;34m\u001b[0m\u001b[0;34m\u001b[0m\u001b[0m\n\u001b[0;32m--> 186\u001b[0;31m         \u001b[0mx\u001b[0m \u001b[0;34m=\u001b[0m \u001b[0mself\u001b[0m\u001b[0;34m.\u001b[0m\u001b[0mconv1\u001b[0m\u001b[0;34m(\u001b[0m\u001b[0mx\u001b[0m\u001b[0;34m)\u001b[0m\u001b[0;34m\u001b[0m\u001b[0;34m\u001b[0m\u001b[0m\n\u001b[0m\u001b[1;32m    187\u001b[0m         \u001b[0mx\u001b[0m \u001b[0;34m=\u001b[0m \u001b[0mself\u001b[0m\u001b[0;34m.\u001b[0m\u001b[0mbn1\u001b[0m\u001b[0;34m(\u001b[0m\u001b[0mx\u001b[0m\u001b[0;34m)\u001b[0m\u001b[0;34m\u001b[0m\u001b[0;34m\u001b[0m\u001b[0m\n\u001b[1;32m    188\u001b[0m         \u001b[0mx\u001b[0m \u001b[0;34m=\u001b[0m \u001b[0mself\u001b[0m\u001b[0;34m.\u001b[0m\u001b[0mrelu\u001b[0m\u001b[0;34m(\u001b[0m\u001b[0mx\u001b[0m\u001b[0;34m)\u001b[0m  \u001b[0;31m# B x 16 x 32 x 32\u001b[0m\u001b[0;34m\u001b[0m\u001b[0;34m\u001b[0m\u001b[0m\n",
      "\u001b[0;32m/home/amax/anaconda3/envs/py38/lib/python3.8/site-packages/torch/nn/modules/module.py\u001b[0m in \u001b[0;36m_call_impl\u001b[0;34m(self, *input, **kwargs)\u001b[0m\n\u001b[1;32m   1049\u001b[0m         if not (self._backward_hooks or self._forward_hooks or self._forward_pre_hooks or _global_backward_hooks\n\u001b[1;32m   1050\u001b[0m                 or _global_forward_hooks or _global_forward_pre_hooks):\n\u001b[0;32m-> 1051\u001b[0;31m             \u001b[0;32mreturn\u001b[0m \u001b[0mforward_call\u001b[0m\u001b[0;34m(\u001b[0m\u001b[0;34m*\u001b[0m\u001b[0minput\u001b[0m\u001b[0;34m,\u001b[0m \u001b[0;34m**\u001b[0m\u001b[0mkwargs\u001b[0m\u001b[0;34m)\u001b[0m\u001b[0;34m\u001b[0m\u001b[0;34m\u001b[0m\u001b[0m\n\u001b[0m\u001b[1;32m   1052\u001b[0m         \u001b[0;31m# Do not call functions when jit is used\u001b[0m\u001b[0;34m\u001b[0m\u001b[0;34m\u001b[0m\u001b[0;34m\u001b[0m\u001b[0m\n\u001b[1;32m   1053\u001b[0m         \u001b[0mfull_backward_hooks\u001b[0m\u001b[0;34m,\u001b[0m \u001b[0mnon_full_backward_hooks\u001b[0m \u001b[0;34m=\u001b[0m \u001b[0;34m[\u001b[0m\u001b[0;34m]\u001b[0m\u001b[0;34m,\u001b[0m \u001b[0;34m[\u001b[0m\u001b[0;34m]\u001b[0m\u001b[0;34m\u001b[0m\u001b[0;34m\u001b[0m\u001b[0m\n",
      "\u001b[0;32m/home/amax/anaconda3/envs/py38/lib/python3.8/site-packages/torch/nn/modules/conv.py\u001b[0m in \u001b[0;36mforward\u001b[0;34m(self, input)\u001b[0m\n\u001b[1;32m    441\u001b[0m \u001b[0;34m\u001b[0m\u001b[0m\n\u001b[1;32m    442\u001b[0m     \u001b[0;32mdef\u001b[0m \u001b[0mforward\u001b[0m\u001b[0;34m(\u001b[0m\u001b[0mself\u001b[0m\u001b[0;34m,\u001b[0m \u001b[0minput\u001b[0m\u001b[0;34m:\u001b[0m \u001b[0mTensor\u001b[0m\u001b[0;34m)\u001b[0m \u001b[0;34m->\u001b[0m \u001b[0mTensor\u001b[0m\u001b[0;34m:\u001b[0m\u001b[0;34m\u001b[0m\u001b[0;34m\u001b[0m\u001b[0m\n\u001b[0;32m--> 443\u001b[0;31m         \u001b[0;32mreturn\u001b[0m \u001b[0mself\u001b[0m\u001b[0;34m.\u001b[0m\u001b[0m_conv_forward\u001b[0m\u001b[0;34m(\u001b[0m\u001b[0minput\u001b[0m\u001b[0;34m,\u001b[0m \u001b[0mself\u001b[0m\u001b[0;34m.\u001b[0m\u001b[0mweight\u001b[0m\u001b[0;34m,\u001b[0m \u001b[0mself\u001b[0m\u001b[0;34m.\u001b[0m\u001b[0mbias\u001b[0m\u001b[0;34m)\u001b[0m\u001b[0;34m\u001b[0m\u001b[0;34m\u001b[0m\u001b[0m\n\u001b[0m\u001b[1;32m    444\u001b[0m \u001b[0;34m\u001b[0m\u001b[0m\n\u001b[1;32m    445\u001b[0m \u001b[0;32mclass\u001b[0m \u001b[0mConv3d\u001b[0m\u001b[0;34m(\u001b[0m\u001b[0m_ConvNd\u001b[0m\u001b[0;34m)\u001b[0m\u001b[0;34m:\u001b[0m\u001b[0;34m\u001b[0m\u001b[0;34m\u001b[0m\u001b[0m\n",
      "\u001b[0;32m/home/amax/anaconda3/envs/py38/lib/python3.8/site-packages/torch/nn/modules/conv.py\u001b[0m in \u001b[0;36m_conv_forward\u001b[0;34m(self, input, weight, bias)\u001b[0m\n\u001b[1;32m    437\u001b[0m                             \u001b[0mweight\u001b[0m\u001b[0;34m,\u001b[0m \u001b[0mbias\u001b[0m\u001b[0;34m,\u001b[0m \u001b[0mself\u001b[0m\u001b[0;34m.\u001b[0m\u001b[0mstride\u001b[0m\u001b[0;34m,\u001b[0m\u001b[0;34m\u001b[0m\u001b[0;34m\u001b[0m\u001b[0m\n\u001b[1;32m    438\u001b[0m                             _pair(0), self.dilation, self.groups)\n\u001b[0;32m--> 439\u001b[0;31m         return F.conv2d(input, weight, bias, self.stride,\n\u001b[0m\u001b[1;32m    440\u001b[0m                         self.padding, self.dilation, self.groups)\n\u001b[1;32m    441\u001b[0m \u001b[0;34m\u001b[0m\u001b[0m\n",
      "\u001b[0;31mRuntimeError\u001b[0m: Input type (torch.cuda.FloatTensor) and weight type (torch.FloatTensor) should be the same"
     ]
    }
   ],
   "source": [
    "input = torch.rand(1, 3, 32, 32).to(device)\n",
    "print(client_1.model(input) - model2(input))\n",
    "\n"
   ]
  }
 ],
 "metadata": {
  "kernelspec": {
   "display_name": "Python 3",
   "language": "python",
   "name": "python3"
  },
  "language_info": {
   "codemirror_mode": {
    "name": "ipython",
    "version": 3
   },
   "file_extension": ".py",
   "mimetype": "text/x-python",
   "name": "python",
   "nbconvert_exporter": "python",
   "pygments_lexer": "ipython3",
   "version": "3.8.10"
  }
 },
 "nbformat": 4,
 "nbformat_minor": 5
}
